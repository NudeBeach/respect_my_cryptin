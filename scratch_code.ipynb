{
 "cells": [
  {
   "cell_type": "code",
   "execution_count": 1,
   "metadata": {},
   "outputs": [],
   "source": [
    "def ngram_generator(text):\n",
    "    total_bigrams=[]\n",
    "    for x in text:\n",
    "        bigrams=Counter(ngrams(x,n=2))\n",
    "        total_bigrams.append(bigrams)\n",
    "    return pd.DataFrame(list(top_10.items()),columns=[\"Word\",\"Count\"])"
   ]
  },
  {
   "cell_type": "code",
   "execution_count": null,
   "metadata": {},
   "outputs": [],
   "source": [
    "super_list=[]\n",
    "for x in bitcoin_sentiment_df[\"Tokens\"]:\n",
    "    super_list.append(x)\n",
    "flat_list = []\n",
    "for sublist in super_list:\n",
    "    for item in sublist:\n",
    "        flat_list.append(item)"
   ]
  },
  {
   "cell_type": "code",
   "execution_count": null,
   "metadata": {},
   "outputs": [],
   "source": [
    "flat_list = []\n",
    "for sublist in super_list:\n",
    "    for item in sublist:\n",
    "        flat_list.append(item)"
   ]
  },
  {
   "cell_type": "code",
   "execution_count": null,
   "metadata": {},
   "outputs": [],
   "source": [
    "Counter(flat_list).most_common(10)"
   ]
  },
  {
   "cell_type": "code",
   "execution_count": null,
   "metadata": {},
   "outputs": [],
   "source": [
    "def make_string():\n",
    "    total_big_string=''\n",
    "    for x in bitcoin_sentiment_df[\"Tokens\"]:\n",
    "        big_string=' '.join(x)\n",
    "        total_big_string=total_big_string + big_string\n",
    "    return total_big_string"
   ]
  },
  {
   "cell_type": "code",
   "execution_count": null,
   "metadata": {},
   "outputs": [],
   "source": [
    "Counter(make_string()).most_common(10)"
   ]
  },
  {
   "cell_type": "code",
   "execution_count": null,
   "metadata": {},
   "outputs": [],
   "source": [
    "def word_counter(corpus): \n",
    "    # Combine all articles in corpus into one large string\n",
    "    big_string = ' '.join(corpus)\n",
    "    processed = process_text(big_string)\n",
    "    top_10 = dict(Counter(processed).most_common(10))\n",
    "    return pd.DataFrame(list(top_10.items()), columns=['word', 'count'])"
   ]
  }
 ],
 "metadata": {
  "kernelspec": {
   "display_name": "Python 3",
   "language": "python",
   "name": "python3"
  },
  "language_info": {
   "codemirror_mode": {
    "name": "ipython",
    "version": 3
   },
   "file_extension": ".py",
   "mimetype": "text/x-python",
   "name": "python",
   "nbconvert_exporter": "python",
   "pygments_lexer": "ipython3",
   "version": "3.7.6"
  }
 },
 "nbformat": 4,
 "nbformat_minor": 4
}
